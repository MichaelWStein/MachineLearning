{
 "cells": [
  {
   "cell_type": "code",
   "execution_count": 1,
   "metadata": {},
   "outputs": [],
   "source": [
    "#Importing required modules\n",
    "import pandas as pd\n",
    "import numpy as np\n"
   ]
  },
  {
   "cell_type": "markdown",
   "metadata": {},
   "source": [
    "This is a program used to prepare data for analysis - especially gender selection based on first name as well as adding a year based on date and some general clean-up. The data can then be further analysed, for example with Power BI. \n",
    "\n",
    "The datasets themselves are confidential, so all display has been blanked out."
   ]
  },
  {
   "cell_type": "code",
   "execution_count": 2,
   "metadata": {},
   "outputs": [],
   "source": [
    "#Reading the name-gender data and creating an appropriate dictionary\n",
    "genderData = pd.read_excel(\"name_gender.xlsx\")\n",
    "gender_dict = dict(zip(genderData.FirstName, genderData.Gender))"
   ]
  },
  {
   "cell_type": "code",
   "execution_count": 3,
   "metadata": {},
   "outputs": [],
   "source": [
    "#Reading the data\n",
    "shelterData = pd.read_excel(\"Constituents_Donations_Cleaned_joined.xlsx\")\n",
    "#shelterData.head(20)"
   ]
  },
  {
   "cell_type": "code",
   "execution_count": 4,
   "metadata": {},
   "outputs": [],
   "source": [
    "#shelterData.columns\n"
   ]
  },
  {
   "cell_type": "code",
   "execution_count": 5,
   "metadata": {},
   "outputs": [
    {
     "name": "stdout",
     "output_type": "stream",
     "text": [
      "['Unknown' 'Male' 'Female' 'NotApp']\n"
     ]
    }
   ],
   "source": [
    "#Some Prep Work: \n",
    "#Set all Gender to 'Unknown' to avoid empty fields, also set all Gender to 'N/A' if the Org_Flag is an Organization\n",
    "for index, row in shelterData.iterrows():\n",
    "    gender = row[\"Gender\"]\n",
    "    org = row[\"Org_Flag\"]\n",
    "    if org == 'Organization':\n",
    "        shelterData.at[index, \"Gender\"] = \"NotApp\"\n",
    "    elif pd.isna(gender):\n",
    "        shelterData.at[index, \"Gender\"] = \"Unknown\"\n",
    "        #Replace all NaN with 'Private' in Org_Name (for future processing)\n",
    "    if pd.isna(row[\"Org_Name\"]):\n",
    "        shelterData.at[index, \"Org_Name\"] = \"Private\"\n",
    "   \n",
    "\n",
    "print(shelterData['Gender'].unique())"
   ]
  },
  {
   "cell_type": "code",
   "execution_count": 6,
   "metadata": {},
   "outputs": [],
   "source": [
    "#First run through for determining the gender\n",
    "for index, row in shelterData.iterrows():\n",
    "    name=row[\"First_Name\"]\n",
    "    if row[\"Gender\"] == \"Unknown\":\n",
    "        if name in gender_dict:\n",
    "            shelterData.at[index, \"Gender\"] = gender_dict[name]\n",
    "            \n",
    "#shelterData.head()\n"
   ]
  },
  {
   "cell_type": "code",
   "execution_count": 7,
   "metadata": {},
   "outputs": [],
   "source": [
    "#Analyzing 'remnants'\n",
    "\n",
    "#Just going by first name to exclude double names\n",
    "for index, row in shelterData.iterrows():\n",
    "    if row[\"Gender\"]  == 'Unknown':\n",
    "        splitName = row[\"First_Name\"].rsplit(\" \")\n",
    "        \n",
    "        if splitName[0] == \"Estate\":\n",
    "            shelterData.at[index, \"Org_Name\"] = \"Estate\"\n",
    "        \n",
    "        #Just loop through each name and see if any string with a length> 1 fits \n",
    "        \n",
    "        i = 0\n",
    "        while i < len(splitName):\n",
    "            if len(splitName[i])>1:\n",
    "                if splitName[i] in gender_dict:\n",
    "                    shelterData.at[index, \"Gender\"] = gender_dict[splitName[i]]\n",
    "                    break\n",
    "                #Also look at any split names like Jo-Ann\n",
    "                elif '-' in splitName[i]:\n",
    "                    nameCheck = splitName[i].rsplit('-')\n",
    "                    j = 0\n",
    "                    while j < len(nameCheck):\n",
    "                        if len(nameCheck[j])>1:\n",
    "                            if nameCheck[j] in gender_dict:\n",
    "                                shelterData.at[index, \"Gender\"] = gender_dict[nameCheck[j]]\n",
    "                                break\n",
    "                        j +=1\n",
    "                    \n",
    "            i += 1\n",
    "             \n",
    "#shelterData.head(20)"
   ]
  },
  {
   "cell_type": "code",
   "execution_count": 8,
   "metadata": {},
   "outputs": [],
   "source": [
    "#print(shelterData.dtypes)"
   ]
  },
  {
   "cell_type": "code",
   "execution_count": 9,
   "metadata": {},
   "outputs": [],
   "source": [
    "#Creating an FSA field for postal code\n",
    "\n",
    "#Need to create a list of FSA Codes first - this is a bit overkill, Nellie's shelter is toronto-centric, but\n",
    "#I want to use this list at a later date for other projects.\n",
    "#Starting at the second elment - the first name is not an FSA (it is 'Canada')\n",
    "\n",
    "fsaData = pd.read_csv(\"Geo_starting_row_CSV.csv\")\n",
    "\n",
    "fsa=[]\n",
    "\n",
    "for index, row in fsaData.iterrows():\n",
    "    if index > 0:\n",
    "        fsa.append(row['Geo Name'])\n",
    "\n",
    "  \n",
    "    \n"
   ]
  },
  {
   "cell_type": "code",
   "execution_count": 10,
   "metadata": {},
   "outputs": [],
   "source": [
    "#Now retrieve the first three elements of the postal code. If they are an FSA, add this FSA in a special column. If not an FSA,\n",
    "#add 'N/A', as this may be needed for later processing.\n",
    "\n",
    "fsaList = []\n",
    "\n",
    "for index, row in shelterData.iterrows():\n",
    "    postalCode = str(row['Postal_Code'])[:3]\n",
    "    if postalCode in fsa:\n",
    "        fsaList.append(postalCode)\n",
    "    else:\n",
    "        fsaList.append('NotApp')\n",
    "\n",
    "#print(fsaList)\n",
    "    \n",
    "shelterData['FSA'] = fsaList"
   ]
  },
  {
   "cell_type": "code",
   "execution_count": 11,
   "metadata": {},
   "outputs": [],
   "source": [
    "#Simplification\n",
    "\n",
    "shelterData = shelterData.drop(['Gift_Amount', 'Appeal_Description', 'Title'], axis=1)\n",
    "\n",
    "#nelliesData.head()"
   ]
  },
  {
   "cell_type": "code",
   "execution_count": 12,
   "metadata": {},
   "outputs": [],
   "source": [
    "\n",
    "#Creating a 'year' and 'month' field\n",
    "\n",
    "shelterData['year'] = pd.DatetimeIndex(shelterData['Gift_Date']).year\n",
    "shelterData['month'] = pd.DatetimeIndex(shelterData['Gift_Date']).month\n",
    "    \n",
    "#shelterData.head()        "
   ]
  },
  {
   "cell_type": "code",
   "execution_count": 13,
   "metadata": {},
   "outputs": [],
   "source": [
    "shelterData.to_csv(\"UpdatedShelterData.csv\")"
   ]
  },
  {
   "cell_type": "code",
   "execution_count": null,
   "metadata": {},
   "outputs": [],
   "source": []
  },
  {
   "cell_type": "code",
   "execution_count": null,
   "metadata": {},
   "outputs": [],
   "source": []
  }
 ],
 "metadata": {
  "kernelspec": {
   "display_name": "Python 3",
   "language": "python",
   "name": "python3"
  },
  "language_info": {
   "codemirror_mode": {
    "name": "ipython",
    "version": 3
   },
   "file_extension": ".py",
   "mimetype": "text/x-python",
   "name": "python",
   "nbconvert_exporter": "python",
   "pygments_lexer": "ipython3",
   "version": "3.7.1"
  }
 },
 "nbformat": 4,
 "nbformat_minor": 2
}
